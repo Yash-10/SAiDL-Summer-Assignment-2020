{
  "nbformat": 4,
  "nbformat_minor": 0,
  "metadata": {
    "colab": {
      "name": "Train LeNet on MNIST with normal data augmentation.ipynb",
      "provenance": []
    },
    "kernelspec": {
      "name": "python3",
      "display_name": "Python 3"
    }
  },
  "cells": [
    {
      "cell_type": "code",
      "metadata": {
        "id": "At89AIBiJzZR",
        "colab_type": "code",
        "colab": {}
      },
      "source": [
        "import numpy as np\n",
        "import matplotlib.pyplot as plt\n",
        "%matplotlib inline\n",
        "import torch\n",
        "import torch.nn as nn\n",
        "import torch.nn.functional as F\n",
        "import torch.optim as optim\n",
        "from torchvision import datasets, transforms\n",
        "from torch.utils.data.sampler import SubsetRandomSampler"
      ],
      "execution_count": null,
      "outputs": []
    },
    {
      "cell_type": "code",
      "metadata": {
        "id": "ErRD_0TuJ6Eb",
        "colab_type": "code",
        "colab": {
          "base_uri": "https://localhost:8080/",
          "height": 34
        },
        "outputId": "c1ea1983-e7b3-4c08-fb8b-08cd2c39cfe8"
      },
      "source": [
        "if torch.cuda.is_available():\n",
        "  device = 'cuda'\n",
        "  print('Working on CUDA...')\n",
        "else:\n",
        "  device = 'cpu'\n",
        "  print('Working on CPU...')"
      ],
      "execution_count": null,
      "outputs": [
        {
          "output_type": "stream",
          "text": [
            "Working on CPU...\n"
          ],
          "name": "stdout"
        }
      ]
    },
    {
      "cell_type": "code",
      "metadata": {
        "id": "4Z_ADVOKJ9HD",
        "colab_type": "code",
        "colab": {}
      },
      "source": [
        "batch_size = 32\n",
        "num_workers = 0\n",
        "valid_size = 0.2\n",
        "\n",
        "data_transform = transforms.Compose([#transforms.RandomResizedCrop(224),\n",
        "                                     transforms.RandomAffine(30),\n",
        "                                     transforms.RandomHorizontalFlip(0.5),\n",
        "                                     transforms.RandomRotation(30),\n",
        "                                     transforms.ToTensor(),\n",
        "                                     transforms.Normalize((0.5,), (0.5,))])\n",
        "\n",
        "train_data = datasets.MNIST(root='data', train=True, download=True, transform=data_transform)\n",
        "test_data = datasets.MNIST(root='data', train=False, download=True, transform=data_transform)\n",
        "\n",
        "num_train = len(train_data)\n",
        "indices = list(range(num_train))\n",
        "np.random.shuffle(indices)\n",
        "split = int(valid_size * num_train)\n",
        "train_idx, valid_idx = indices[split:], indices[:split]\n",
        "\n",
        "train_sampler = SubsetRandomSampler(train_idx)\n",
        "valid_sampler = SubsetRandomSampler(valid_idx)\n",
        "\n",
        "train_loader = torch.utils.data.DataLoader(train_data, batch_size=batch_size, sampler=train_sampler, num_workers=num_workers)\n",
        "validation_loader = torch.utils.data.DataLoader(train_data, batch_size=batch_size, sampler=valid_sampler, num_workers=num_workers)\n",
        "test_loader = torch.utils.data.DataLoader(test_data, batch_size=batch_size, num_workers=num_workers)"
      ],
      "execution_count": null,
      "outputs": []
    },
    {
      "cell_type": "code",
      "metadata": {
        "id": "G4FKKzd-KPu7",
        "colab_type": "code",
        "colab": {
          "base_uri": "https://localhost:8080/",
          "height": 187
        },
        "outputId": "bc16c815-a5c6-4611-e19b-604bf07d0621"
      },
      "source": [
        "# Display images\n",
        "\n",
        "dataiter = iter(train_loader)\n",
        "images, labels = dataiter.next()\n",
        "images = images.numpy()\n",
        "\n",
        "fig = plt.figure(figsize=(25, 4))\n",
        "\n",
        "for idx in np.arange(20):\n",
        "  ax = fig.add_subplot(2, 20/2, idx+1, xticks=[], yticks=[])\n",
        "  ax.imshow(np.squeeze(images[idx]), cmap='gray')\n",
        "  ax.set_title(str(labels[idx].item()))"
      ],
      "execution_count": null,
      "outputs": [
        {
          "output_type": "display_data",
          "data": {
            "image/png": "[encoded data removed]",
            "text/plain": [
              "<Figure size 1800x288 with 20 Axes>"
            ]
          },
          "metadata": {
            "tags": []
          }
        }
      ]
    },
    {
      "cell_type": "code",
      "metadata": {
        "id": "LAdx49mkKRxf",
        "colab_type": "code",
        "colab": {
          "base_uri": "https://localhost:8080/",
          "height": 136
        },
        "outputId": "99e7ada5-2791-4fd2-f97e-0fd4341da193"
      },
      "source": [
        "# The LeNet architecture model\n",
        "\n",
        "class LeNet(nn.Module):\n",
        "  def __init__(self):\n",
        "    super(LeNet, self).__init__()\n",
        "\n",
        "    # Input shape --> : 28 * 28 * 1\n",
        "    self.conv1 = nn.Conv2d(1, 16, 3, stride=1, padding=1)\n",
        "    # Shape --> 28 * 28 * 16 - MaxPool reduces x-y dimensions by a factor of 2 here. And no. of channels increases from 1 to 16\n",
        "    self.conv2 = nn.Conv2d(16, 32, 3, stride=1, padding=1) # Shape --> 14 * 14 * 16\n",
        "    self.pool = nn.MaxPool2d(2, 2)\n",
        "    self.fc1 = nn.Linear(7 * 7 * 32, 512)\n",
        "    self.fc2 = nn.Linear(512, 10)\n",
        "\n",
        "  def forward(self, x):  # Input shape: 28 * 28 * 1\n",
        "    x = self.pool(F.relu(self.conv1(x)))  # 14 * 14 * 16\n",
        "    x = self.pool(F.relu(self.conv2(x)))  # 7 * 7 * 32\n",
        "    x = x.view(-1, 7 * 7 * 32)\n",
        "    x = F.relu(self.fc1(x))\n",
        "    x = F.softmax(self.fc2(x), dim=1)\n",
        "\n",
        "    return x\n",
        "\n",
        "model = LeNet()\n",
        "print(model)\n",
        "\n",
        "if device == 'cuda':\n",
        "  model.cuda()"
      ],
      "execution_count": null,
      "outputs": [
        {
          "output_type": "stream",
          "text": [
            "LeNet(\n",
            "  (conv1): Conv2d(1, 16, kernel_size=(3, 3), stride=(1, 1), padding=(1, 1))\n",
            "  (conv2): Conv2d(16, 32, kernel_size=(3, 3), stride=(1, 1), padding=(1, 1))\n",
            "  (pool): MaxPool2d(kernel_size=2, stride=2, padding=0, dilation=1, ceil_mode=False)\n",
            "  (fc1): Linear(in_features=1568, out_features=512, bias=True)\n",
            "  (fc2): Linear(in_features=512, out_features=10, bias=True)\n",
            ")\n"
          ],
          "name": "stdout"
        }
      ]
    },
    {
      "cell_type": "code",
      "metadata": {
        "id": "-DWq6Zg_Nivi",
        "colab_type": "code",
        "colab": {}
      },
      "source": [
        "criterion = nn.CrossEntropyLoss()\n",
        "optimizer = optim.Adam(model.parameters(), lr=0.001)"
      ],
      "execution_count": null,
      "outputs": []
    },
    {
      "cell_type": "code",
      "metadata": {
        "id": "MJKDt3pbNlP8",
        "colab_type": "code",
        "colab": {
          "base_uri": "https://localhost:8080/",
          "height": 510
        },
        "outputId": "406d9f56-5da6-459d-deea-e14388695102"
      },
      "source": [
        "epochs = 20\n",
        "train_losses = []\n",
        "valid_losses = []\n",
        "valid_accuracies = []\n",
        "\n",
        "valid_loss_min = np.Inf\n",
        "\n",
        "for e in range(epochs):\n",
        "  train_loss = 0.0\n",
        "  valid_loss = 0.0\n",
        "\n",
        "  for images, labels in train_loader:\n",
        "    if device == 'cuda':\n",
        "      images, labels = images.cuda(), labels.cuda()\n",
        "\n",
        "    optimizer.zero_grad()\n",
        "    output = model.forward(images)\n",
        "    loss = criterion(output, labels)\n",
        "    loss.backward()\n",
        "    optimizer.step()\n",
        "\n",
        "    train_loss += loss.item()\n",
        "\n",
        "  model.eval()\n",
        "  accuracy = 0\n",
        "  for images, labels in validation_loader:\n",
        "    if device == 'cuda':\n",
        "      images, labels = images.cuda(), labels.cuda()\n",
        "\n",
        "    logps = model(images)\n",
        "    loss = criterion(logps, labels)\n",
        "    ps = torch.exp(logps)\n",
        "    top_p, top_class = ps.topk(1, dim=1)\n",
        "    equals = top_class == labels.view(*top_class.shape)\n",
        "    accuracy += torch.mean(equals.type(torch.FloatTensor)).item()\n",
        "\n",
        "    valid_loss += loss.item()\n",
        "\n",
        "  train_loss = train_loss / len(train_loader)\n",
        "  valid_loss = valid_loss / len(validation_loader)\n",
        "  accuracy = accuracy / len(validation_loader)\n",
        "\n",
        "  train_losses.append(train_loss)\n",
        "  valid_losses.append(valid_loss)\n",
        "  valid_accuracies.append(accuracy)\n",
        "\n",
        "  print('Epoch {}'.format(e+1),\n",
        "        'Training Loss: {:.3f}'.format(train_loss),\n",
        "        'Validation Loss: {:.3f}'.format(valid_loss),\n",
        "        'Validation accuracy: {:.3f}'.format(accuracy))\n",
        "  \n",
        "  if valid_loss <= valid_loss_min:\n",
        "    print('Validation Loss decreased: {:.6f} --> {:.6f}. Saving Model...'.format(\n",
        "          valid_loss_min, valid_loss))\n",
        "    torch.save(model.state_dict(), 'model_cifar10.pt')\n",
        "    valid_loss_min = valid_loss"
      ],
      "execution_count": null,
      "outputs": [
        {
          "output_type": "stream",
          "text": [
            "Epoch 1 Training Loss: 1.682 Validation Loss: 1.573 Validation accuracy: 0.890\n",
            "Validation Loss decreased: inf --> 1.572935. Saving Model...\n",
            "Epoch 2 Training Loss: 1.551 Validation Loss: 1.538 Validation accuracy: 0.924\n",
            "Validation Loss decreased: 1.572935 --> 1.537771. Saving Model...\n",
            "Epoch 3 Training Loss: 1.532 Validation Loss: 1.544 Validation accuracy: 0.918\n",
            "Epoch 4 Training Loss: 1.524 Validation Loss: 1.522 Validation accuracy: 0.940\n",
            "Validation Loss decreased: 1.537771 --> 1.521914. Saving Model...\n",
            "Epoch 5 Training Loss: 1.520 Validation Loss: 1.517 Validation accuracy: 0.944\n",
            "Validation Loss decreased: 1.521914 --> 1.516766. Saving Model...\n",
            "Epoch 6 Training Loss: 1.517 Validation Loss: 1.522 Validation accuracy: 0.939\n",
            "Epoch 7 Training Loss: 1.514 Validation Loss: 1.519 Validation accuracy: 0.942\n",
            "Epoch 8 Training Loss: 1.513 Validation Loss: 1.514 Validation accuracy: 0.948\n",
            "Validation Loss decreased: 1.516766 --> 1.513614. Saving Model...\n",
            "Epoch 9 Training Loss: 1.510 Validation Loss: 1.517 Validation accuracy: 0.944\n",
            "Epoch 10 Training Loss: 1.512 Validation Loss: 1.509 Validation accuracy: 0.952\n",
            "Validation Loss decreased: 1.513614 --> 1.508871. Saving Model...\n",
            "Epoch 11 Training Loss: 1.509 Validation Loss: 1.509 Validation accuracy: 0.952\n",
            "Validation Loss decreased: 1.508871 --> 1.508525. Saving Model...\n",
            "Epoch 12 Training Loss: 1.508 Validation Loss: 1.511 Validation accuracy: 0.950\n",
            "Epoch 13 Training Loss: 1.508 Validation Loss: 1.518 Validation accuracy: 0.942\n",
            "Epoch 14 Training Loss: 1.507 Validation Loss: 1.508 Validation accuracy: 0.953\n",
            "Validation Loss decreased: 1.508525 --> 1.507965. Saving Model...\n",
            "Epoch 15 Training Loss: 1.509 Validation Loss: 1.514 Validation accuracy: 0.947\n",
            "Epoch 16 Training Loss: 1.508 Validation Loss: 1.510 Validation accuracy: 0.950\n",
            "Epoch 17 Training Loss: 1.506 Validation Loss: 1.505 Validation accuracy: 0.956\n",
            "Validation Loss decreased: 1.507965 --> 1.504743. Saving Model...\n",
            "Epoch 18 Training Loss: 1.506 Validation Loss: 1.511 Validation accuracy: 0.951\n",
            "Epoch 19 Training Loss: 1.507 Validation Loss: 1.511 Validation accuracy: 0.949\n",
            "Epoch 20 Training Loss: 1.508 Validation Loss: 1.512 Validation accuracy: 0.949\n"
          ],
          "name": "stdout"
        }
      ]
    },
    {
      "cell_type": "code",
      "metadata": {
        "id": "ueVtCCttNm9_",
        "colab_type": "code",
        "colab": {
          "base_uri": "https://localhost:8080/",
          "height": 296
        },
        "outputId": "ac67621d-04e0-47ac-a43c-0dff4b44ad4c"
      },
      "source": [
        "plt.plot(train_losses, label='Training Loss')\n",
        "plt.plot(valid_losses, label='Validation Loss')\n",
        "\n",
        "plt.xlim([0, 20])\n",
        "\n",
        "plt.xlabel('No. of epochs')\n",
        "plt.ylabel('Loss')\n",
        "plt.legend()"
      ],
      "execution_count": null,
      "outputs": [
        {
          "output_type": "execute_result",
          "data": {
            "text/plain": [
              "<matplotlib.legend.Legend at 0x7ffb1a226048>"
            ]
          },
          "metadata": {
            "tags": []
          },
          "execution_count": 23
        },
        {
          "output_type": "display_data",
          "data": {
            "image/png": "[encoded data removed]",
            "text/plain": [
              "<Figure size 432x288 with 1 Axes>"
            ]
          },
          "metadata": {
            "tags": [],
            "needs_background": "light"
          }
        }
      ]
    },
    {
      "cell_type": "code",
      "metadata": {
        "id": "fV4nYjBgVptV",
        "colab_type": "code",
        "colab": {
          "base_uri": "https://localhost:8080/",
          "height": 34
        },
        "outputId": "ace75458-4a76-4db2-d8c9-966c6a45504a"
      },
      "source": [
        "model.load_state_dict(torch.load('model_cifar10.pt'))"
      ],
      "execution_count": null,
      "outputs": [
        {
          "output_type": "execute_result",
          "data": {
            "text/plain": [
              "<All keys matched successfully>"
            ]
          },
          "metadata": {
            "tags": []
          },
          "execution_count": 24
        }
      ]
    },
    {
      "cell_type": "code",
      "metadata": {
        "id": "9CYbxmvuVsik",
        "colab_type": "code",
        "colab": {
          "base_uri": "https://localhost:8080/",
          "height": 85
        },
        "outputId": "f0011eec-15a8-4117-b511-e3de737177e1"
      },
      "source": [
        "test_loss = 0.0\n",
        "test_accuracy = 0.0\n",
        "\n",
        "model.eval()\n",
        "for images, labels in test_loader:\n",
        "  if device == 'cuda':\n",
        "    images, labels = images.cuda(), labels.cuda()\n",
        "\n",
        "  logps = model.forward(images)\n",
        "  loss = criterion(logps, labels)\n",
        "  test_loss += loss.item()\n",
        "\n",
        "  ps = torch.exp(logps)\n",
        "  top_p, top_class = ps.topk(1, dim=1)\n",
        "  equals = top_class == labels.view(*top_class.shape)\n",
        "  test_accuracy += torch.mean(equals.type(torch.FloatTensor)).item()\n",
        "\n",
        "test_accuracy = test_accuracy / len(test_loader)\n",
        "\n",
        "print('Test accuracy: {}'.format(test_accuracy))\n",
        "print('\\n')\n",
        "test_loss = test_loss / len(test_loader)\n",
        "print('Test Loss: {}'.format(test_loss))"
      ],
      "execution_count": null,
      "outputs": [
        {
          "output_type": "stream",
          "text": [
            "Test accuracy: 0.9568690095846646\n",
            "\n",
            "\n",
            "Test Loss: 1.5041966019347073\n"
          ],
          "name": "stdout"
        }
      ]
    },
    {
      "cell_type": "code",
      "metadata": {
        "id": "KEVb71kfVuVN",
        "colab_type": "code",
        "colab": {}
      },
      "source": [
        ""
      ],
      "execution_count": null,
      "outputs": []
    }
  ]
}